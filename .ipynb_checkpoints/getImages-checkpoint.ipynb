{
 "cells": [
  {
   "cell_type": "code",
   "execution_count": null,
   "metadata": {},
   "outputs": [],
   "source": [
    "import cv2\n",
    "\n",
    "def gstreamer_pipeline(sensor_id=0, capture_width=1280, capture_height=720,\n",
    "                       display_width=1280, display_height=720, framerate=30, flip_method=0):\n",
    "    return (\n",
    "        f\"nvarguscamerasrc sensor-id={sensor_id} ! \"\n",
    "        f\"video/x-raw(memory:NVMM), width=(int){capture_width}, height=(int){capture_height}, \"\n",
    "        f\"format=(string)NV12, framerate=(fraction){framerate}/1 ! \"\n",
    "        f\"nvvidconv flip-method={flip_method} ! \"\n",
    "        f\"video/x-raw, width=(int){display_width}, height=(int){display_height}, format=(string)BGRx ! \"\n",
    "        f\"videoconvert ! video/x-raw, format=(string)BGR ! appsink\"\n",
    "    )\n",
    "\n",
    "cap = cv2.VideoCapture(gstreamer_pipeline(sensor_id=0,flip_method=2), cv2.CAP_GSTREAMER)\n",
    "\n",
    "num = 0\n",
    "\n",
    "while cap.isOpened():\n",
    "\n",
    "    succes, img = cap.read()\n",
    "\n",
    "    k = cv2.waitKey(5)\n",
    "\n",
    "    if k == 27:\n",
    "        break\n",
    "    elif k == ord('s'): # wait for 's' key to save and exit\n",
    "        cv2.imwrite('images1/img' + str(num) + '.png', img)\n",
    "        print(\"image saved!\")\n",
    "        num += 1\n",
    "\n",
    "    cv2.imshow('Img',img)\n",
    "\n",
    "# Release and destroy all windows before termination\n",
    "cap.release()\n",
    "\n",
    "cv2.destroyAllWindows()"
   ]
  }
 ],
 "metadata": {
  "kernelspec": {
   "display_name": "Python 3",
   "language": "python",
   "name": "python3"
  },
  "language_info": {
   "codemirror_mode": {
    "name": "ipython",
    "version": 3
   },
   "file_extension": ".py",
   "mimetype": "text/x-python",
   "name": "python",
   "nbconvert_exporter": "python",
   "pygments_lexer": "ipython3",
   "version": "3.6.9"
  }
 },
 "nbformat": 4,
 "nbformat_minor": 2
}
